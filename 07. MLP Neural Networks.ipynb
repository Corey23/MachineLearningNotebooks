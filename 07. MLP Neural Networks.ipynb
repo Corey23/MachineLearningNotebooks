{
 "cells": [
  {
   "cell_type": "markdown",
   "metadata": {},
   "source": [
    "# MLP Neural Networks\n",
    "In this notebook we will build several different multi-layer perceptron models. Each time, we will add some common functionality to the model. We will start with building an easy to analyze system and build the overall complexity each time.  \n",
    "\n",
    "## Getting some data to test with:\n",
    "Let's start by grabbing some data for a (small) hand written digits dataset. "
   ]
  },
  {
   "cell_type": "code",
   "execution_count": 1,
   "metadata": {},
   "outputs": [
    {
     "name": "stdout",
     "output_type": "stream",
     "text": [
      "(1797, 64)\n",
      "(1797,)\n",
      "-0.5 0.5\n",
      "[0 1 2 3 4 5 6 7 8 9]\n"
     ]
    }
   ],
   "source": [
    "# lets load up the handwritten digit dataset\n",
    "from sklearn.datasets import load_digits\n",
    "from sklearn.metrics import accuracy_score\n",
    "from sklearn.preprocessing import StandardScaler\n",
    "import numpy as np\n",
    "\n",
    "ds = load_digits()\n",
    "X = ds.data/16.0-0.5 # normalize the input, very important\n",
    "y = ds.target\n",
    "\n",
    "print(X.shape)\n",
    "print(y.shape)\n",
    "print(np.min(X),np.max(X))\n",
    "print(np.unique(y))"
   ]
  },
  {
   "cell_type": "code",
   "execution_count": 2,
   "metadata": {},
   "outputs": [
    {
     "data": {
      "image/png": "[encoded data removed]",
      "text/plain": [
       "<Figure size 432x288 with 10 Axes>"
      ]
     },
     "metadata": {},
     "output_type": "display_data"
    }
   ],
   "source": [
    "import matplotlib.pyplot as plt\n",
    "%matplotlib inline\n",
    "\n",
    "fig, ax = plt.subplots(nrows=2, ncols=5, sharex=True, sharey=True,)\n",
    "ax = ax.flatten()\n",
    "for i in range(10):\n",
    "    img = X[y == i][0].reshape(8, 8)\n",
    "    ax[i].imshow(img, cmap='Greys', interpolation='nearest')\n",
    "\n",
    "ax[0].set_xticks([])\n",
    "ax[0].set_yticks([])\n",
    "plt.tight_layout()\n",
    "plt.show()"
   ]
  },
  {
   "cell_type": "code",
   "execution_count": 3,
   "metadata": {},
   "outputs": [
    {
     "data": {
      "image/png": "[encoded data removed]",
      "text/plain": [
       "<Figure size 432x288 with 25 Axes>"
      ]
     },
     "metadata": {},
     "output_type": "display_data"
    }
   ],
   "source": [
    "fig, ax = plt.subplots(nrows=5, ncols=5, sharex=True, sharey=True,)\n",
    "ax = ax.flatten()\n",
    "digit = 7\n",
    "x_digits = X[y == digit]\n",
    "for i in range(25):\n",
    "    img = x_digits[i].reshape(8, 8)\n",
    "    ax[i].imshow(img, cmap='Greys', interpolation='nearest')\n",
    "\n",
    "ax[0].set_xticks([])\n",
    "ax[0].set_yticks([])\n",
    "plt.tight_layout()\n",
    "plt.show()"
   ]
  },
  {
   "cell_type": "code",
   "execution_count": 4,
   "metadata": {},
   "outputs": [
    {
     "name": "stdout",
     "output_type": "stream",
     "text": [
      "(1437, 64)\n",
      "(1437,)\n",
      "(360, 64)\n",
      "(360,)\n"
     ]
    }
   ],
   "source": [
    "from sklearn.model_selection import train_test_split\n",
    "\n",
    "X_train, X_test, y_train, y_test = train_test_split(X,y,test_size = 0.2)\n",
    "print(X_train.shape)\n",
    "print(y_train.shape)\n",
    "print(X_test.shape)\n",
    "print(y_test.shape)"
   ]
  },
  {
   "cell_type": "markdown",
   "metadata": {},
   "source": [
    "_____\n",
    "# Single Layer Neural Networks are just Linear and Logistic Regression\n",
    "The single layer network can be summarized with the notation given by previously covered topics (linear and logistic regression). When we calculated objective functions for linear regression and logistic regression we used the maximum likelihood priciple, showing that (under Gaussian noise) this led to minimizing the squared error of the output.\n",
    "\n",
    "This is identical to the objective function for generic, single layer neural networks:\n",
    "$$ \\sum_i^M (\\mathbf{y}^{(i)}-\\hat{\\mathbf{y}}^{(i)})^2 $$\n",
    "\n",
    "Here, the $\\mathbf{y}^{(i)}$ is a one-hot-encoded representation of the class for the $i^{th}$ instance.\n",
    "Adding in terms of single layer neural network explicitly:\n",
    "$$ J(\\mathbf{W}) = \\sum_i^M (\\mathbf{y}^{(i)}-\\phi(\\mathbf{W}\\cdot \\mathbf{x}^{(i)}))^2 $$\n",
    "\n",
    "Adaline network objective function:\n",
    "$$ J(\\mathbf{W}) = \\sum_i^M (\\mathbf{y}^{(i)}-\\mathbf{W}\\cdot \\mathbf{x}^{(i)})^2 $$\n",
    "\n",
    "To solve, we need the gradient:\n",
    "$$  \\nabla J(\\mathbf{W}) $$\n",
    "\n",
    "And then we can use the Widrow-Hoff learning Rule:\n",
    "$$ \\mathbf{W}\\leftarrow\\mathbf{W} +\\eta\\nabla J(\\mathbf{W}) $$\n",
    "\n",
    "Which can be separated for each row (they are independent):\n",
    "$$ \\mathbf{w}\\leftarrow\\mathbf{w} +\\eta[ \\mathbf{X}*(\\mathbf{y}-\\mathbf{\\hat{y}})] $$\n",
    "\n",
    "$$ \\mathbf{w}_{row}\\leftarrow\\mathbf{w}_{row} +\\eta[ \\mathbf{X}*(\\mathbf{y}_{row}-\\mathbf{\\hat{y}}_{row})] $$\n",
    "\n",
    "The same is true for the update equation of the perceptron with a sigmoid activation function:\n",
    "$$ \\mathbf{w}\\leftarrow\\mathbf{w} +\\eta[ \\mathbf{X}*(\\mathbf{y}-\\mathbf{g(x)})] $$\n",
    "\n",
    "$$ \\mathbf{w}_{row}\\leftarrow\\mathbf{w}_{row} +\\eta[ \\mathbf{X}*(\\mathbf{y}_{row}-\\mathbf{g(x)}_{row})] $$\n",
    "\n",
    "This means that the update equations are identical to the case of linear and logistic regression, using one-versus-all! So all of this we have already looked at and solved! Yay!! But, what about when we add more layers?\n"
   ]
  },
  {
   "cell_type": "markdown",
   "metadata": {},
   "source": [
    "# Multi-layer Case\n",
    "In the multilayer perceptron, we need to adjust some notation:\n",
    "\n",
    "<img src=\"https://raw.githubusercontent.com/eclarson/MachineLearningNotebooks/master/PDF_Slides/MultiLayerNetwork.png\" width=\"500\">\n",
    "\n",
    "\n",
    "## Formulation of multi-layer perceptron\n",
    "Our objective function becomes:\n",
    "$$ J(\\mathbf{W}) = \\sum_k^M (\\mathbf{y}^{(k)}-\\mathbf{a}^{(L)})^2 $$\n",
    "\n",
    "And the update equation becomes:\n",
    "$$  w_{i,j}^{(l)} \\leftarrow w_{i,j}^{(l)} - \\eta \\frac{\\partial J(\\mathbf{W})}{\\partial w_{i,j}^{(l)}}$$\n",
    "\n",
    "However, this is not tractable to compute by hand for each network architecture, so we expand the gradient calculation using the chain rule to get partial derivatives:\n",
    "$$  \\frac{\\partial J(\\mathbf{W})}{\\partial w_{i,j}^{(l)}} = \\frac{\\partial J(\\mathbf{W})}{\\partial\\mathbf{z}^{(l)}} \\frac{\\partial\\mathbf{z}^{(l)}}{\\partial w_{i,j}^{(l)}}   $$\n",
    "\n",
    "The second term in the partial derivatives is easy to calculate as $a_j^{(l)}$ (see lecture notes), such that:\n",
    "$$  \\frac{\\partial J(\\mathbf{W})}{\\partial w_{i,j}^{(l)}} = \\frac{\\partial J(\\mathbf{W})}{\\partial\\mathbf{z}^{(l)}} a_j^{(l)}   $$\n",
    "\n",
    "And our update equation would be:\n",
    "$$  w_{i,j}^{(l)} \\leftarrow w_{i,j}^{(l)} - \\eta \\frac{\\partial J(\\mathbf{W})}{\\partial\\mathbf{z}^{(l)}} a_j^{(l)}$$\n",
    "\n",
    "To calculate the other term, we need to continue to use the chain rule:\n",
    "$$ \\frac{\\partial J(\\mathbf{W})}{\\partial\\mathbf{z}^{(l)}} = \\left[\\frac{\\partial \\mathbf{z}^{(l+1)} }{\\partial\\mathbf{z}^{(l)}}\\right]^T \\frac{\\partial J(\\mathbf{W})}{\\partial\\mathbf{z}^{(l+1)}}  $$\n",
    "\n",
    "After some derivation, we can see that: \n",
    "$$ \\frac{\\partial \\mathbf{z}^{(l+1)} }{\\partial\\mathbf{z}^{(l)}} = \\text{diag}[\\mathbf{a}^{(l+1)}*(1-\\mathbf{a}^{(l+1)})] \\cdot\\mathbf{W}^{(l+1)}  $$\n",
    "\n",
    "and\n",
    "$$ \\frac{\\partial J(\\mathbf{W})}{\\partial\\mathbf{z}^{(l)}} = \\text{diag}[\\mathbf{a}^{(l+1)}*(1-\\mathbf{a}^{(l+1)})] \\cdot\\mathbf{W}^{(l+1)} \\frac{\\partial J(\\mathbf{W})}{\\partial\\mathbf{z}^{(l+1)}} $$\n",
    "\n",
    "This set up a recurrence relation such that if we know $\\frac{\\partial J(\\mathbf{W})}{\\partial\\mathbf{z}^{(l)}}$ for the final layer, we can use it to get the derivatives for the previous layers. For a two layer network, the final layer gradient can be formulated as:\n",
    "$$  \\frac{\\partial J(\\mathbf{W})}{\\partial\\mathbf{z}^{(2)}} = \\frac{\\partial}{\\partial\\mathbf{z}^{(2)}} (\\mathbf{y}^{(k)}-\\phi(\\mathbf{z}^{(2)}))^2 $$\n",
    "\n",
    "$$  \\frac{\\partial J(\\mathbf{W})}{\\partial\\mathbf{z}^{(2)}}  = -2(\\mathbf{y}^{(k)}-\\mathbf{a}^{(3)})*\\mathbf{a}^{(3)}*(1-\\mathbf{a}^{(3)}) $$\n",
    "\n",
    "where $\\mathbf{y}^{(k)}$ is the $k^{th}$ instance and $\\mathbf{a}^{(3)}$ is the feedforward result for the $k^{th}$ instance. We can make this more explicit by writing the $k^{th}$ instance of $\\mathbf{a}^{(3)}$ as $[\\mathbf{a}^{(3)}]^{(k)}$. Now the update becomes:\n",
    "\n",
    "$$  \\frac{\\partial J(\\mathbf{W})}{\\partial [\\mathbf{z}^{(2)}]^{(k)}}  = -2\\left(\\mathbf{y}^{(k)}-{[\\mathbf{a}^{(3)}]^{(k)}}\\right)*{[\\mathbf{a}^{(3)}]^{(k)}}*\\left(1-{[\\mathbf{a}^{(3)}]^{(k)}}\\right) $$\n",
    "\n",
    "Also recall that $\\cdot$ represent matrix multiplication and $*$ represents elementwise or row-wise multiplication. The update equation can be given by:\n",
    "\n",
    "$$ \\mathbf{W}^{(l)} \\leftarrow \\mathbf{W}^{(l)} -\\eta \\frac{\\partial J(\\mathbf{W}^{(l)})}{\\partial [\\mathbf{z}^{(l)}]^{(k)}} \\cdot {[\\mathbf{a}^{(l)}]^{(k)}} $$\n",
    "\n",
    "For single elements stochastic gradient descent. Or can be given by the following for batch gradient descent:\n",
    "\n",
    "$$ \\mathbf{W}^{(l)} \\leftarrow \\mathbf{W}^{(l)} -\\eta \\sum_k\\frac{\\partial J(\\mathbf{W}^{(l)})}{\\partial {[\\mathbf{z}^{(l)}]^{(k)}}} \\cdot {[\\mathbf{a}^{(l)}]^{(k)}} $$\n"
   ]
  },
  {
   "cell_type": "markdown",
   "metadata": {},
   "source": [
    "## Programming a Two Layer Perceptron\n",
    "Example adapted from https://github.com/rasbt/python-machine-learning-book/blob/master/code/ch12/ch12.ipynb\n",
    "Original Author: Sebastian Raschka\n",
    "\n",
    "This is the optional book we use in the course, excellent intuitions and straightforward programming examples please note, however, that this code has been heavily manipulated to reflect our assumptions and notation."
   ]
  },
  {
   "cell_type": "code",
   "execution_count": 5,
   "metadata": {},
   "outputs": [],
   "source": [
    "#Example adapted from https://github.com/rasbt/python-machine-learning-book/blob/master/code/ch12/ch12.ipynb\n",
    "#Original Author: Sebastian Raschka\n",
    "\n",
    "import numpy as np\n",
    "from scipy.special import expit\n",
    "import sys\n",
    "import pandas as pd\n",
    "\n",
    "# start with a simple base classifier, which can't be fit or predicted\n",
    "# it only has internal classes to be used by classes that will subclass it\n",
    "# Start with the following functions:\n",
    "#    init\n",
    "#    encode_labels\n",
    "#    initialize weights\n",
    "#    sigmoid\n",
    "#    add bias (vector of ones)\n",
    "#    objective function (cost and regularizer)\n",
    "class TwoLayerPerceptronBase(object):\n",
    "    def __init__(self, n_hidden=30,\n",
    "                 C=0.0, epochs=500, eta=0.001, random_state=None):\n",
    "        np.random.seed(random_state)\n",
    "        self.n_hidden = n_hidden\n",
    "        self.l2_C = C\n",
    "        self.epochs = epochs\n",
    "        self.eta = eta\n",
    "        \n",
    "    @staticmethod\n",
    "    def _encode_labels(y):\n",
    "        \"\"\"Encode labels into one-hot representation\"\"\"\n",
    "        onehot = pd.get_dummies(y).values.T\n",
    "            \n",
    "        return onehot\n",
    "\n",
    "    def _initialize_weights(self):\n",
    "        \"\"\"Initialize weights with small random numbers.\"\"\"\n",
    "        W1_num_elems = (self.n_features_ + 1)*self.n_hidden\n",
    "        W1 = np.random.uniform(-1.0, 1.0, size=W1_num_elems)\n",
    "        W1 = W1.reshape(self.n_hidden, self.n_features_ + 1) # reshape to be W\n",
    "        \n",
    "        W2_num_elems = (self.n_hidden + 1)*self.n_output_\n",
    "        W2 = np.random.uniform(-1.0, 1.0, size=W2_num_elems)\n",
    "        W2 = W2.reshape(self.n_output_, self.n_hidden + 1)\n",
    "        return W1, W2\n",
    "    \n",
    "    @staticmethod\n",
    "    def _sigmoid(z):\n",
    "        \"\"\"Use scipy.special.expit to avoid overflow\"\"\"\n",
    "        # 1.0 / (1.0 + np.exp(-z))\n",
    "        return expit(z)\n",
    "    \n",
    "    @staticmethod\n",
    "    def _add_bias_unit(X, how='column'):\n",
    "        \"\"\"Add bias unit (column or row of 1s) to array at index 0\"\"\"\n",
    "        if how == 'column':\n",
    "            ones = np.ones((X.shape[0], 1))\n",
    "            X_new = np.hstack((ones, X))\n",
    "        elif how == 'row':\n",
    "            ones = np.ones((1, X.shape[1]))\n",
    "            X_new = np.vstack((ones, X))\n",
    "        return X_new\n",
    "    \n",
    "    @staticmethod\n",
    "    def _L2_reg(lambda_, W1, W2):\n",
    "        \"\"\"Compute L2-regularization cost\"\"\"\n",
    "        # only compute for non-bias terms\n",
    "        return (lambda_) * np.sqrt(np.mean(W1[:, 1:] ** 2) + np.mean(W2[:, 1:] ** 2))\n",
    "    \n",
    "    def _cost(self,A3,Y_enc,W1,W2):\n",
    "        '''Get the objective function value'''\n",
    "        cost = np.mean((Y_enc-A3)**2)\n",
    "        L2_term = self._L2_reg(self.l2_C, W1, W2)\n",
    "        return cost + L2_term\n",
    "    "
   ]
  },
  {
   "cell_type": "code",
   "execution_count": 6,
   "metadata": {},
   "outputs": [],
   "source": [
    "# now let's add in the following functions:\n",
    "#    feedforward\n",
    "#    fit and predict\n",
    "class TwoLayerPerceptron(TwoLayerPerceptronBase):\n",
    "    def _feedforward(self, X, W1, W2):\n",
    "        \"\"\"Compute feedforward step\n",
    "        -----------\n",
    "        X : Input layer with original features.\n",
    "        W1: Weight matrix for input layer -> hidden layer.\n",
    "        W2: Weight matrix for hidden layer -> output layer.\n",
    "        ----------\n",
    "        a1-a3 : activations into layer (or output layer)\n",
    "        z1-z2 : layer inputs \n",
    "\n",
    "        \"\"\"\n",
    "        A1 = self._add_bias_unit(X.T, how='row')\n",
    "        Z1 = W1 @ A1\n",
    "        A2 = self._sigmoid(Z1)\n",
    "        A2 = self._add_bias_unit(A2, how='row')\n",
    "        Z2 = W2 @ A2\n",
    "        A3 = self._sigmoid(Z2)\n",
    "        return A1, Z1, A2, Z2, A3\n",
    "    \n",
    "    def _get_gradient(self, A1, A2, A3, Z1, Z2, Y_enc, W1, W2):\n",
    "        \"\"\" Compute gradient step using backpropagation.\n",
    "        \"\"\"\n",
    "        # need to vectorize this computation!\n",
    "        # See additional code and derivation below!\n",
    "    \n",
    "    def predict(self, X):\n",
    "        \"\"\"Predict class labels\"\"\"\n",
    "        _, _, _, _, A3 = self._feedforward(X, self.W1, self.W2)\n",
    "        y_pred = np.argmax(A3, axis=0)\n",
    "        return y_pred\n",
    "    \n",
    "    \n",
    "    def fit(self, X, y, print_progress=False):\n",
    "        \"\"\" Learn weights from training data.\"\"\"\n",
    "        \n",
    "        X_data, y_data = X.copy(), y.copy()\n",
    "        Y_enc = self._encode_labels(y)\n",
    "        \n",
    "        # init weights and setup matrices\n",
    "        self.n_features_ = X_data.shape[1]\n",
    "        self.n_output_ = Y_enc.shape[0]\n",
    "        self.W1, self.W2 = self._initialize_weights()\n",
    "\n",
    "        self.cost_ = []\n",
    "        for i in range(self.epochs):\n",
    "\n",
    "            if print_progress>0 and (i+1)%print_progress==0:\n",
    "                sys.stderr.write('\\rEpoch: %d/%d' % (i+1, self.epochs))\n",
    "                sys.stderr.flush()\n",
    "\n",
    "            # feedforward all instances\n",
    "            A1, Z1, A2, Z2, A3 = self._feedforward(X_data,self.W1,self.W2)\n",
    "            \n",
    "            cost = self._cost(A3,Y_enc,self.W1,self.W2)\n",
    "            self.cost_.append(cost)\n",
    "\n",
    "            # compute gradient via backpropagation\n",
    "            grad1, grad2 = self._get_gradient(A1=A1, A2=A2, A3=A3, Z1=Z1, Z2=Z2, Y_enc=Y_enc,\n",
    "                                              W1=self.W1, W2=self.W2)\n",
    "\n",
    "            self.W1 -= self.eta * grad1\n",
    "            self.W2 -= self.eta * grad2\n",
    "            \n",
    "\n",
    "        return self"
   ]
  },
  {
   "cell_type": "markdown",
   "metadata": {},
   "source": [
    "## Vectorized coding operations in gradient\n",
    "So we need to derive equations for vectorized operations. These can be derived by specifically writing out our current gradient calculations. If we plug in the equations for the final layer gradient, we have that:\n",
    "\n",
    "$$  \\nabla_k^{(2)} = -2\\left(\\mathbf{y}^{(k)}-{[\\mathbf{a}^{(3)}]^{(k)}}\\right){[\\mathbf{a}^{(3)}]^{(k)}}\\left(1-{[\\mathbf{a}^{(3)}]^{(k)}}\\right)\\cdot {[\\mathbf{a}^{(2)}]^{(k)} } $$\n",
    "\n",
    "where we use $\\nabla_k^{(2)}$ in place of $\\frac{\\partial J(\\mathbf{W}^{(l)})}{\\partial _k\\mathbf{z}^{(2)}} \\cdot {[\\mathbf{a}^{(2)}]^{(k)}}$ to simplify the notation. Therefore, the total batch gradient calculation is given by:\n",
    "\n",
    "$$ \\mathbf{\\nabla}^{(2)} = \\sum_k \\nabla_k^{(2)} $$\n",
    "\n",
    "This first operation is relatively easy to vectorize because each column in $\\mathbf{A}^{(2)}$ corresponds to the $k^{th}$ instance of $_k\\mathbf{a}^{(2)}$. Therefore we can simply transpose $\\mathbf{A}^{(2)}$ and multiply it by the elementwise multiplications of $\\mathbf{y}^{(k)}$ and $_k\\mathbf{a}^{(3)}$:\n",
    "\n",
    "$$ \\mathbf{\\nabla}^{(2)} = -2(\\mathbf{Y}-\\mathbf{A}^{(3)})*\\mathbf{A}^{(3)}*(1-\\mathbf{A}^{(3)})\\cdot [\\mathbf{A}^{(2)}]^T $$\n",
    "\n",
    "For convenience, we define another variable, $\\mathbf{V}^{(2)}$ (called the sensitivity):\n",
    "\n",
    "$$ \\mathbf{V}^{(2)} = -2(\\mathbf{Y}-\\mathbf{A}^{(3)})*\\mathbf{A}^{(3)}*(1-\\mathbf{A}^{(3)}) $$\n",
    "\n",
    "such that:\n",
    "\n",
    "$$ \\mathbf{\\nabla}^{(2)} = \\mathbf{V}^{(2)}\\cdot [\\mathbf{A}^{(2)}]^T $$\n",
    "\n",
    "Further details about this calculation can be found in the lecture notes or the video here: https://youtu.be/WRr2e7mKCUY\n"
   ]
  },
  {
   "cell_type": "markdown",
   "metadata": {},
   "source": [
    "___\n",
    "\n",
    "Similarly, the calculation of the gradient for the hidden layer, from our derivations was:\n",
    "\n",
    "$$  \\nabla_k^{(1)} = \\frac{\\partial J(\\mathbf{W})}{\\partial \\mathbf{z}^{(2)}}\\cdot \\mathbf{W}^{(2)} \\cdot \\text{diag}[{_k\\mathbf{a}^{(2)}}*(1-{_k\\mathbf{a}^{(2)}})] \\cdot \\mathbf{a}^{(1)}$$\n",
    "\n",
    "$$ \\mathbf{\\nabla}^{(1)} = \\sum_k \\nabla_k^{(1)} $$\n",
    "\n",
    "This can also be vectorized by recognizing that $\\frac{\\partial J(\\mathbf{W})}{\\partial \\mathbf{z}^{(2)}}$ is a matrix with columns equal to $\\frac{\\partial J(\\mathbf{W})}{\\partial {_k\\mathbf{z}^{(2)}}}$ for each instance $k$. We have already solved for this: $ \\mathbf{V}^{(2)} $. With some algebra, we can find that the computation is represented vectorized as:\n",
    "\n",
    "$$  \\mathbf{V}^{(1)} = \\mathbf{A}^{(2)} * (1-\\mathbf{A}^{(2)}) * [\\mathbf{W}^{(2)}]^T \\cdot \\mathbf{V}^{(2)} \\cdot \\mathbf{A}^{(1)}$$\n",
    "\n",
    "And we define an intermediate sensitivity variable $\\mathbf{V}^{(1)}$ as:\n",
    "\n",
    "$$ \\mathbf{V}^{(1)} =  \\mathbf{A}^{(2)} * (1-\\mathbf{A}^{(2)}) * [\\mathbf{W}^{(2)}]^T \\cdot \\mathbf{V}^{(2)}  $$\n",
    "\n",
    "such that: \n",
    "\n",
    "$$  \\mathbf{\\nabla}^{(1)} = \\mathbf{V}^{(1)}\\cdot [\\mathbf{A}^{(1)}]^{T} $$\n",
    "\n",
    "Now we can update the weight vectors according to:\n",
    "\n",
    "$$ \\mathbf{W}^{(l)} \\leftarrow \\mathbf{W}^{(l)} -\\eta \\mathbf{\\nabla}^{(l)} $$\n",
    "\n",
    "Let's get programming! All we really need to do is update the `_get_gradient` class method."
   ]
  },
  {
   "cell_type": "code",
   "execution_count": 7,
   "metadata": {},
   "outputs": [],
   "source": [
    "params = dict(n_hidden=50, \n",
    "              C=0.1, # tradeoff L2 regularizer\n",
    "              epochs=400, # iterations\n",
    "              eta=0.001,  # learning rate\n",
    "              random_state=1)"
   ]
  },
  {
   "cell_type": "code",
   "execution_count": 8,
   "metadata": {},
   "outputs": [],
   "source": [
    "class TwoLayerPerceptronVectorized(TwoLayerPerceptron):\n",
    "    # just need a different gradient calculation\n",
    "    def _get_gradient(self, A1, A2, A3, Z1, Z2, Y_enc, W1, W2):\n",
    "        \"\"\" Compute gradient step using backpropagation.\n",
    "        \"\"\"\n",
    "        # vectorized backpropagation\n",
    "        V2 = -2*(Y_enc-A3)*A3*(1-A3)\n",
    "        V1 = A2*(1-A2)*(W2.T @ V2)\n",
    "        \n",
    "        grad2 = V2 @ A2.T\n",
    "        grad1 = V1[1:,:] @ A1.T\n",
    "        \n",
    "        \n",
    "        # regularize weights that are not bias terms\n",
    "        grad1[:, 1:] += W1[:, 1:] * self.l2_C\n",
    "        grad2[:, 1:] += W2[:, 1:] * self.l2_C\n",
    "\n",
    "        return grad1, grad2"
   ]
  },
  {
   "cell_type": "code",
   "execution_count": 9,
   "metadata": {},
   "outputs": [
    {
     "name": "stderr",
     "output_type": "stream",
     "text": [
      "Epoch: 400/400"
     ]
    },
    {
     "name": "stdout",
     "output_type": "stream",
     "text": [
      "Accuracy: 0.9472222222222222\n",
      "CPU times: user 1.94 s, sys: 36 ms, total: 1.98 s\n",
      "Wall time: 499 ms\n"
     ]
    }
   ],
   "source": [
    "%%time\n",
    "nn = TwoLayerPerceptronVectorized(**params)\n",
    "\n",
    "nn.fit(X_train, y_train, print_progress=50)\n",
    "yhat = nn.predict(X_test)\n",
    "print('Accuracy:',accuracy_score(y_test,yhat))"
   ]
  },
  {
   "cell_type": "code",
   "execution_count": 10,
   "metadata": {},
   "outputs": [
    {
     "data": {
      "image/png": "[encoded data removed]",
      "text/plain": [
       "<Figure size 432x288 with 1 Axes>"
      ]
     },
     "metadata": {
      "needs_background": "light"
     },
     "output_type": "display_data"
    }
   ],
   "source": [
    "plt.plot(range(len(nn.cost_)), nn.cost_)\n",
    "plt.ylabel('Cost')\n",
    "plt.xlabel('Epochs')\n",
    "plt.tight_layout()\n",
    "plt.show()"
   ]
  },
  {
   "cell_type": "markdown",
   "metadata": {},
   "source": [
    "### [Back to slides] \n",
    "\n",
    "## Adding complexity and functionality\n",
    "So now we can calculate the gradient quickly, but we need to account for more optimization methods in this new space because the optmiization surface can be highly non-convex. We need to steer clear of local optima as best as possible.\n",
    "\n",
    "To start, let's add: \n",
    "- some momentum to the calculation \n",
    "- $\\eta$ learning rate decay\n",
    "- perform mini-batching of the gradient updates \n",
    "- random reshuffling of the inputs\n",
    "\n",
    "For cooling the learning rate, at epoch $k$:\n",
    "$$ \\mathbf{W}_{k+1} = \\mathbf{W}_k - \\frac{\\eta}{1+\\epsilon\\cdot k} \\cdot \\rho_{k} $$\n",
    "\n",
    "For momentum:\n",
    "$$ \\rho_{k} = \\nabla J(\\mathbf{W}_k) + \\alpha\\rho_{k-1} $$\n",
    "\n",
    "For decaying the learning rate:\n",
    "$$ \\eta_k = \\max(\\eta_0^{(k\\cdot d)},\\frac{\\eta_0}{1000}) $$\n",
    "\n",
    "Our new class can inherit from the old one. "
   ]
  },
  {
   "cell_type": "code",
   "execution_count": 11,
   "metadata": {},
   "outputs": [],
   "source": [
    "# Example adapted from https://github.com/rasbt/python-machine-learning-book/blob/master/code/ch12/ch12.ipynb\n",
    "# Original Author: Sebastian Raschka\n",
    "# This is the optional book we use in the course, excellent intuitions and straightforward programming examples\n",
    "# please note, however, that this code has been manipulated to reflect our assumptions and notation.\n",
    "class TLPVectorizedMiniBatch(TwoLayerPerceptronVectorized):\n",
    "    def __init__(self, alpha=0.1, decrease_const=0.0, shuffle=True, minibatches=1, **kwds):        \n",
    "        # need to add to the original initializer \n",
    "        self.alpha = alpha\n",
    "        self.decrease_const = decrease_const\n",
    "        self.shuffle = shuffle\n",
    "        self.minibatches = minibatches\n",
    "        # but keep other keywords\n",
    "        super().__init__(**kwds)\n",
    "        \n",
    "    def fit(self, X, y, print_progress=0):\n",
    "        \"\"\" Learn weights from training data.\"\"\"\n",
    "        X_data, y_data = X.copy(), y.copy()\n",
    "        Y_enc = self._encode_labels(y)\n",
    "        \n",
    "        # init weights and setup matrices\n",
    "        self.n_features_ = X_data.shape[1]\n",
    "        self.n_output_ = Y_enc.shape[0]\n",
    "        self.W1, self.W2 = self._initialize_weights()\n",
    "        \n",
    "        # start momentum at zero for previous updates\n",
    "        rho_W1_prev = np.zeros(self.W1.shape) # for momentum\n",
    "        rho_W2_prev = np.zeros(self.W2.shape) # for momentum\n",
    "\n",
    "        self.cost_ = []\n",
    "        for i in range(self.epochs):\n",
    "\n",
    "            # adaptive learning rate\n",
    "            eta = self.eta**(1+self.decrease_const*i)# decreasing learning rate\n",
    "            eta = max(eta,self.eta/1000)\n",
    "            # there are many forms of adaptive learning rates out there!\n",
    "\n",
    "            if print_progress>0 and (i+1)%print_progress==0:\n",
    "                sys.stderr.write('\\rEpoch: %d/%d' % (i+1, self.epochs))\n",
    "                sys.stderr.flush()\n",
    "\n",
    "            if self.shuffle:\n",
    "                ridx = np.random.permutation(y_data.shape[0])\n",
    "                X_data, Y_enc = X_data[ridx], Y_enc[:, ridx]\n",
    "\n",
    "            # use numpy split to split into equal sized batches \n",
    "            # num batches== self.minibatches\n",
    "            mini = np.array_split(range(y_data.shape[0]), self.minibatches)\n",
    "            mini_cost = []\n",
    "            for idx in mini:\n",
    "\n",
    "                # feedforward\n",
    "                A1, Z1, A2, Z2, A3 = self._feedforward(X_data[idx],\n",
    "                                                       self.W1,\n",
    "                                                       self.W2)\n",
    "                \n",
    "                cost = self._cost(A3,Y_enc[:, idx],self.W1,self.W2)\n",
    "                mini_cost.append(cost) # this appends cost of mini-batch only\n",
    "\n",
    "                # compute gradient via backpropagation\n",
    "                grad1, grad2 = self._get_gradient(A1=A1, A2=A2, A3=A3, Z1=Z1, Z2=Z2,\n",
    "                                                  Y_enc=Y_enc[:, idx],\n",
    "                                                  W1=self.W1, W2=self.W2)\n",
    "\n",
    "                rho_W1, rho_W2 = eta * grad1, eta * grad2\n",
    "                self.W1 -= (rho_W1 + (self.alpha * rho_W1_prev)) # update with momentum\n",
    "                self.W2 -= (rho_W2 + (self.alpha * rho_W2_prev)) # update with momentum\n",
    "                rho_W1_prev, rho_W2_prev = rho_W1, rho_W2\n",
    "\n",
    "            self.cost_.append(mini_cost)\n",
    "            \n",
    "        return self"
   ]
  },
  {
   "cell_type": "code",
   "execution_count": 12,
   "metadata": {},
   "outputs": [
    {
     "name": "stderr",
     "output_type": "stream",
     "text": [
      "Epoch: 100/100"
     ]
    },
    {
     "name": "stdout",
     "output_type": "stream",
     "text": [
      "Accuracy: 0.9472222222222222\n",
      "CPU times: user 2.93 s, sys: 15.3 ms, total: 2.94 s\n",
      "Wall time: 737 ms\n"
     ]
    }
   ],
   "source": [
    "%%time\n",
    "params['epochs'] = 100\n",
    "params['eta'] = 0.1\n",
    "nn_mini = TLPVectorizedMiniBatch(**params,\n",
    "                          alpha=0.1,# momentum calculation\n",
    "                          decrease_const=0.1, # decreasing eta\n",
    "                          minibatches=len(X_train)/32, # minibatch size\n",
    "                          shuffle=True)\n",
    "\n",
    "    \n",
    "nn_mini.fit(X_train, y_train, print_progress=50)\n",
    "yhat = nn.predict(X_test)\n",
    "print('Accuracy:',accuracy_score(y_test,yhat))"
   ]
  },
  {
   "cell_type": "code",
   "execution_count": 13,
   "metadata": {},
   "outputs": [
    {
     "data": {
      "image/png": "[encoded data removed]",
      "text/plain": [
       "<Figure size 432x288 with 1 Axes>"
      ]
     },
     "metadata": {
      "needs_background": "light"
     },
     "output_type": "display_data"
    }
   ],
   "source": [
    "# take the mean of each minibatch epoch\n",
    "cost_avgs = [np.mean(x) for x in nn_mini.cost_]\n",
    "\n",
    "plt.plot(range(len(cost_avgs)), cost_avgs, color='red')\n",
    "plt.ylabel('Cost')\n",
    "plt.xlabel('Epochs')\n",
    "plt.tight_layout()\n",
    "plt.show()"
   ]
  },
  {
   "cell_type": "markdown",
   "metadata": {},
   "source": [
    "## Using different optimization techniques\n",
    "While the above implementation is good for a number of applications, we have yet to use more advanced optimization algorithms. Why is that? Shouldn't we remedy this situation?\n",
    "\n",
    "### Self-test: Should we try quasi-Newton methods on the MLP?\n",
    "- A. Yes. Quasi-Newton methods converge much faster\n",
    "- B. Yes. Quasi-Newton methods are guaranteed to find the global optimum\n",
    "- C. No. There is no guarantee that Quasi-Newton methods will work better in a non-convex space.\n",
    "- D. No. With so many weights, the Hessian calculation is too complex. \n",
    "\n",
    "___\n",
    "\n",
    "## Quasi-Newton updates for the MLP\n",
    "Let's try to perform L-BFGS with on the previous models. The easy way of performing this is to add wrapper methods to the `_get_gradient` function in order to pack and unpack the data into the Weights matrices.\n"
   ]
  },
  {
   "cell_type": "code",
   "execution_count": 14,
   "metadata": {},
   "outputs": [],
   "source": [
    "from scipy.optimize import fmin_bfgs\n",
    "from scipy.optimize import fmin_l_bfgs_b\n",
    "class TLPVectorizedBFGS(TwoLayerPerceptronVectorized):\n",
    "    \n",
    "    def __init__(self, gtol=1e-5, **kwds):        \n",
    "        # need to add to the original initializer \n",
    "        self.gtol = gtol\n",
    "        \n",
    "        # but keep other keywords\n",
    "        super().__init__(**kwds)\n",
    "        \n",
    "    @staticmethod\n",
    "    def _pack(in1, in2):\n",
    "        '''Pack and flatten input vectors '''\n",
    "        return np.hstack((in1.flatten(),in2.flatten()))\n",
    "    \n",
    "    def _unpack(self, in_tot):\n",
    "        '''Undo packing according to layer weight sizes'''\n",
    "        out1 = in_tot[:self.W1.size].reshape(self.W1.shape)\n",
    "        out2 = in_tot[self.W1.size:].reshape(self.W2.shape)\n",
    "        return out1, out2\n",
    "    \n",
    "    def _calc_cost_gradient_packed(self,W,X_data,Y_enc):\n",
    "        '''Unpack and get cost, gradient for bfgs'''\n",
    "        W1, W2 = self._unpack(W) \n",
    "        # feedforward all instances\n",
    "        A1, Z1, A2, Z2, A3 = self._feedforward(X_data,W1,W2)\n",
    "        \n",
    "        cost = np.sum((Y_enc-A3)**2)\n",
    "        L2_term = self._L2_reg(self.l2_C, W1, W2)\n",
    "        cost = cost + L2_term\n",
    "        #perform back prop to get gradients\n",
    "        grad1,grad2 = self._get_gradient(A1=A1, A2=A2, A3=A3,Z1=Z1, Z2=Z2, Y_enc=Y_enc,\n",
    "                                         W1=W1, W2=W2)\n",
    "        return cost, self._pack(grad1,grad2)\n",
    "    \n",
    "    def _cost_packed(self,W,X_data,Y_enc):\n",
    "        '''Unpack and calculate MSE for bfgs'''\n",
    "        W1, W2 = self._unpack(W)\n",
    "        _, _, _, _, A3 = self._feedforward(X_data,W1,W2)\n",
    "        return np.sum((Y_enc-A3)**2)\n",
    "    \n",
    "    def fit(self,X,y,print_progress=0):\n",
    "        '''Learn weights from training data'''\n",
    "        X_data, y_data = X.copy(), y.copy()\n",
    "        Y_enc = self._encode_labels(y)\n",
    "        \n",
    "        # init weights and setup matrices\n",
    "        self.n_features_ = X_data.shape[1]\n",
    "        self.n_output_ = Y_enc.shape[0]\n",
    "        self.W1, self.W2 = self._initialize_weights()\n",
    "        \n",
    "        # make initial matrices into single row vector\n",
    "        W = self._pack(self.W1,self.W2)\n",
    "        \n",
    "        if print_progress>0:\n",
    "            def callback(xd):\n",
    "                callback.counter += 1\n",
    "                if callback.counter%print_progress==0:\n",
    "                    sys.stderr.write('\\rEpoch: %d/%d (max)' % (callback.counter,callback.epochs))\n",
    "                    sys.stderr.flush()\n",
    "\n",
    "            callback.counter = 0\n",
    "            callback.epochs = self.epochs\n",
    "            \n",
    "        else:\n",
    "            callback = None\n",
    "            \n",
    "        # compute gradient optimum with bfgs\n",
    "        W_best,_,props = fmin_l_bfgs_b(\n",
    "                        x0=W,\n",
    "                        func=self._calc_cost_gradient_packed,\n",
    "                        maxfun=self.epochs,\n",
    "                        callback=callback,\n",
    "                        pgtol=self.gtol,\n",
    "                        args=(X_data, Y_enc))\n",
    "        \n",
    "        self.W1, self.W2 = self._unpack(W_best)\n",
    "        if print_progress:\n",
    "            print(props)\n",
    "    "
   ]
  },
  {
   "cell_type": "code",
   "execution_count": 15,
   "metadata": {},
   "outputs": [
    {
     "name": "stderr",
     "output_type": "stream",
     "text": [
      "Epoch: 75/100 (max)"
     ]
    },
    {
     "name": "stdout",
     "output_type": "stream",
     "text": [
      "{'grad': array([-0.47381299,  0.25463814,  0.17320819, ...,  0.48260606,\n",
      "        0.14005623,  0.31210958]), 'task': 'STOP: TOTAL NO. of f AND g EVALUATIONS EXCEEDS LIMIT', 'funcalls': 101, 'nit': 75, 'warnflag': 1}\n",
      "Accuracy: 0.9722222222222222\n",
      "CPU times: user 1.14 s, sys: 55.7 ms, total: 1.2 s\n",
      "Wall time: 299 ms\n"
     ]
    }
   ],
   "source": [
    "%%time\n",
    "nn_bfgs = TLPVectorizedBFGS(**params, gtol=1e-3)\n",
    "\n",
    "nn_bfgs.fit(X_train, y_train, print_progress=1)\n",
    "yhat = nn_bfgs.predict(X_test)\n",
    "print('Accuracy:',accuracy_score(y_test,yhat))"
   ]
  },
  {
   "cell_type": "markdown",
   "metadata": {},
   "source": [
    "Wow! That was pretty fast compared to the other implementations we have seen. But don't let this fool you. The L-BFGS implementation is great for smaller datasets, but minibatch/stochastic methods are more optimal as the number of instances in our data gets larger. Eventually they over power the L-BFGS algorithm's ability to move along the curvature effectively and efficiently.  \n",
    "___\n",
    "# Using a bigger, more diverse dataset\n",
    "\n",
    "Now let's load in a more diverse, harder to classify dataset: Fashion MNIST\n",
    "https://www.kaggle.com/zalando-research/fashionmnist\n",
    "\n",
    "**Labels**\n",
    "\n",
    "Each training and test example is assigned to one of the following labels:\n",
    "\n",
    "- T-shirt/top\n",
    "- Trouser\n",
    "- Pullover\n",
    "- Dress\n",
    "- Coat\n",
    "- Sandal\n",
    "- Shirt\n",
    "- Sneaker\n",
    "- Bag\n",
    "- Ankle boot "
   ]
  },
  {
   "cell_type": "code",
   "execution_count": 16,
   "metadata": {},
   "outputs": [],
   "source": [
    "# more data \n",
    "# Let's use Raschka's implementation for using the fashion mnist dataset:\n",
    "# https://github.com/rasbt/python-machine-learning-book/blob/master/code/ch12/ch12.ipynb\n",
    "import os\n",
    "import struct\n",
    "import numpy as np\n",
    " \n",
    "def load_mnist(path, kind='fashion_train'):\n",
    "    \"\"\"Load Fashion MNIST data from `path`\"\"\"\n",
    "    labels_path = os.path.join(path, '%s-labels-idx1-ubyte' % kind)\n",
    "    images_path = os.path.join(path, '%s-images-idx3-ubyte' % kind)\n",
    "        \n",
    "    with open(labels_path, 'rb') as lbpath:\n",
    "        magic, n = struct.unpack('>II', lbpath.read(8))\n",
    "        labels = np.fromfile(lbpath, dtype=np.uint8)\n",
    "\n",
    "    with open(images_path, 'rb') as imgpath:\n",
    "        magic, num, rows, cols = struct.unpack(\">IIII\", imgpath.read(16))\n",
    "        images = np.fromfile(imgpath, dtype=np.uint8).reshape(len(labels), 784)\n",
    " \n",
    "    return images, labels"
   ]
  },
  {
   "cell_type": "code",
   "execution_count": 17,
   "metadata": {},
   "outputs": [
    {
     "name": "stdout",
     "output_type": "stream",
     "text": [
      "Rows: 60000, columns: 784\n",
      "Rows: 10000, columns: 784\n",
      "-0.5 0.5\n"
     ]
    }
   ],
   "source": [
    "X_train, y_train = load_mnist('data/', kind='fashion_train')\n",
    "print('Rows: %d, columns: %d' % (X_train.shape[0], X_train.shape[1]))\n",
    "\n",
    "X_test, y_test = load_mnist('data/', kind='fashion_t10k')\n",
    "print('Rows: %d, columns: %d' % (X_test.shape[0], X_test.shape[1]))\n",
    "\n",
    "# don't forget to normalize\n",
    "X_train = X_train/255.0 - 0.5\n",
    "X_test = X_test/255.0 - 0.5\n",
    "\n",
    "print(np.min(X_train),np.max(X_train))"
   ]
  },
  {
   "cell_type": "code",
   "execution_count": 18,
   "metadata": {},
   "outputs": [
    {
     "data": {
      "image/png": "[encoded data removed]",
      "text/plain": [
       "<Figure size 432x288 with 10 Axes>"
      ]
     },
     "metadata": {},
     "output_type": "display_data"
    }
   ],
   "source": [
    "import matplotlib.pyplot as plt\n",
    "%matplotlib inline\n",
    "\n",
    "fig, ax = plt.subplots(nrows=2, ncols=5, sharex=True, sharey=True,)\n",
    "ax = ax.flatten()\n",
    "for i in range(10):\n",
    "    img = X_train[y_train == i][0].reshape(28, 28)\n",
    "    ax[i].imshow(img, cmap='Greys', interpolation='nearest')\n",
    "\n",
    "ax[0].set_xticks([])\n",
    "ax[0].set_yticks([])\n",
    "plt.tight_layout()\n",
    "plt.show()"
   ]
  },
  {
   "cell_type": "code",
   "execution_count": 19,
   "metadata": {},
   "outputs": [
    {
     "data": {
      "image/png": "[encoded data removed]",
      "text/plain": [
       "<Figure size 432x288 with 25 Axes>"
      ]
     },
     "metadata": {},
     "output_type": "display_data"
    }
   ],
   "source": [
    "# T-shirt/top\n",
    "# Trouser\n",
    "# Pullover\n",
    "# Dress\n",
    "# Coat\n",
    "# Sandal\n",
    "# Shirt\n",
    "# Sneaker\n",
    "# Bag\n",
    "# Ankle boot\n",
    "\n",
    "fig, ax = plt.subplots(nrows=5, ncols=5, sharex=True, sharey=True,)\n",
    "ax = ax.flatten()\n",
    "imgs_of_one_class = X_train[y_train == 6]\n",
    "for i in range(25):\n",
    "    img = imgs_of_one_class[i].reshape(28, 28)\n",
    "    ax[i].imshow(img, cmap='Greys', interpolation='nearest')\n",
    "\n",
    "ax[0].set_xticks([])\n",
    "ax[0].set_yticks([])\n",
    "plt.tight_layout()\n",
    "plt.show()"
   ]
  },
  {
   "cell_type": "markdown",
   "metadata": {},
   "source": [
    "### L-BFGS Optimization for Fashion MNIST\n",
    "This is a nice test to show that mini-batching has better conversion properties for some datasets."
   ]
  },
  {
   "cell_type": "code",
   "execution_count": 20,
   "metadata": {},
   "outputs": [
    {
     "name": "stderr",
     "output_type": "stream",
     "text": [
      "Epoch: 83/100 (max)"
     ]
    },
    {
     "name": "stdout",
     "output_type": "stream",
     "text": [
      "{'grad': array([-2.78927058,  1.4139008 ,  1.27199847, ..., -2.79435899,\n",
      "       -7.044463  ,  3.40803821]), 'task': 'STOP: TOTAL NO. of f AND g EVALUATIONS EXCEEDS LIMIT', 'funcalls': 101, 'nit': 83, 'warnflag': 1}\n",
      "Validation acc: 0.7863\n",
      "CPU times: user 1min 20s, sys: 4.46 s, total: 1min 24s\n",
      "Wall time: 21.6 s\n"
     ]
    }
   ],
   "source": [
    "%%time\n",
    "nn_bfgs = TLPVectorizedBFGS( \n",
    "                      n_hidden=50, \n",
    "                      C=0.1, \n",
    "                      epochs=100, # max iterations\n",
    "                      gtol=1e-9,\n",
    "                      random_state=1)\n",
    "\n",
    "nn_bfgs.fit(X_train, y_train, print_progress=1)\n",
    "yhat = nn_bfgs.predict(X_test)\n",
    "print('Validation acc:',accuracy_score(y_test,yhat))"
   ]
  },
  {
   "cell_type": "markdown",
   "metadata": {},
   "source": [
    "### MiniBatch Gradient Descent for Fashion MNIST"
   ]
  },
  {
   "cell_type": "code",
   "execution_count": 21,
   "metadata": {},
   "outputs": [
    {
     "name": "stderr",
     "output_type": "stream",
     "text": [
      "Epoch: 40/40"
     ]
    },
    {
     "name": "stdout",
     "output_type": "stream",
     "text": [
      "Validation acc: 0.8525\n",
      "CPU times: user 59.9 s, sys: 2.48 s, total: 1min 2s\n",
      "Wall time: 15.8 s\n"
     ]
    }
   ],
   "source": [
    "%%time\n",
    "nn_mini = TLPVectorizedMiniBatch( \n",
    "                          n_hidden=50, \n",
    "                          C=0.1,  \n",
    "                          epochs=40, \n",
    "                          eta=0.1,\n",
    "                          alpha=0.05,\n",
    "                          decrease_const=0.1,\n",
    "                          minibatches=len(X_train)/256, \n",
    "                          shuffle=True,\n",
    "                          random_state=1)\n",
    "\n",
    "nn_mini.fit(X_train, y_train, print_progress=1)\n",
    "yhat = nn_mini.predict(X_test)\n",
    "print('Validation acc:',accuracy_score(y_test,yhat))"
   ]
  },
  {
   "cell_type": "code",
   "execution_count": 22,
   "metadata": {},
   "outputs": [
    {
     "data": {
      "image/png": "[encoded data removed]",
      "text/plain": [
       "<Figure size 432x288 with 1 Axes>"
      ]
     },
     "metadata": {
      "needs_background": "light"
     },
     "output_type": "display_data"
    }
   ],
   "source": [
    "# take the mean of each minibatch epoch\n",
    "cost_avgs = [np.mean(x) for x in nn_mini.cost_]\n",
    "\n",
    "plt.plot(range(len(cost_avgs)), cost_avgs, color='red')\n",
    "plt.ylabel('Cost')\n",
    "plt.xlabel('Epochs')\n",
    "plt.tight_layout()\n",
    "plt.show()"
   ]
  },
  {
   "cell_type": "code",
   "execution_count": 23,
   "metadata": {},
   "outputs": [
    {
     "data": {
      "image/png": "[encoded data removed]",
      "text/plain": [
       "<Figure size 720x720 with 25 Axes>"
      ]
     },
     "metadata": {},
     "output_type": "display_data"
    }
   ],
   "source": [
    "label_names=[\n",
    "    'T-shirt/top',\n",
    "    'Trouser',\n",
    "    'Pullover',\n",
    "    'Dress',\n",
    "    'Coat',\n",
    "    'Sandal',\n",
    "    'Shirt',\n",
    "    'Sneaker',\n",
    "    'Bag',\n",
    "    'Ankle boot']\n",
    "\n",
    "# get first 25 confusions\n",
    "miscl_img = X_test[y_test != yhat][:25]\n",
    "correct_lab = y_test[y_test != yhat][:25]\n",
    "miscl_lab = yhat[y_test != yhat][:25]\n",
    "\n",
    "fig, ax = plt.subplots(nrows=5, ncols=5, sharex=True, sharey=True, figsize=(10,10))\n",
    "ax = ax.flatten()\n",
    "for i in range(25):\n",
    "    img = miscl_img[i].reshape(28, 28)\n",
    "    ax[i].imshow(img, cmap='Greys', interpolation='nearest')\n",
    "    ax[i].set_title('%s, (p:%s)' % (label_names[correct_lab[i]],label_names[miscl_lab[i]]))\n",
    "\n",
    "ax[0].set_xticks([])\n",
    "ax[0].set_yticks([])\n",
    "plt.tight_layout()\n",
    "plt.show()"
   ]
  },
  {
   "cell_type": "markdown",
   "metadata": {},
   "source": [
    "While these misclassifications are looking mostly okay, we can do better. Is 85% good for Fashion MNIST?  We can check out the leaderboard here: https://paperswithcode.com/sota/image-classification-on-fashion-mnist\n",
    "\n",
    "But we have some additional implementation details that are needed for practical implementation of neural networks, in order to get them training more efficiently and more meaningfully. These are visited in the next notebook, `08. Practical Implementation of Neural Networks`\n"
   ]
  },
  {
   "cell_type": "markdown",
   "metadata": {},
   "source": [
    "## In this notebook you learned:\n",
    "- an introduction to neural networks notation and programming\n",
    "- using a two-layer perceptron architecture with sigmoid activations\n",
    "- optimizing this network with mini-batch descent and Quasi-newton methods"
   ]
  },
  {
   "cell_type": "code",
   "execution_count": null,
   "metadata": {},
   "outputs": [],
   "source": []
  }
 ],
 "metadata": {
  "anaconda-cloud": {},
  "kernelspec": {
   "display_name": "Python 3",
   "language": "python",
   "name": "python3"
  },
  "language_info": {
   "codemirror_mode": {
    "name": "ipython",
    "version": 3
   },
   "file_extension": ".py",
   "mimetype": "text/x-python",
   "name": "python",
   "nbconvert_exporter": "python",
   "pygments_lexer": "ipython3",
   "version": "3.7.7"
  }
 },
 "nbformat": 4,
 "nbformat_minor": 2
}
